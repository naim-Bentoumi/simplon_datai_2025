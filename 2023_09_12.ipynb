{
 "cells": [
  {
   "cell_type": "markdown",
   "id": "05909184",
   "metadata": {},
   "source": [
    "# Exercices du 12/09/2023"
   ]
  },
  {
   "cell_type": "markdown",
   "id": "7debb8c5",
   "metadata": {},
   "source": [
    "### Exercice 1\n",
    "\n",
    "Écrivez un programme qui demande à l'utilisateur de saisir un nombre entier positif et affiche tous les nombres de 1 jusqu'à ce nombre (inclus)."
   ]
  },
  {
   "cell_type": "code",
   "execution_count": 89,
   "id": "7b909a26",
   "metadata": {
    "scrolled": true
   },
   "outputs": [
    {
     "name": "stdout",
     "output_type": "stream",
     "text": [
      "2.2\n",
      "Les nombres sont :\n",
      "1\n",
      "2\n"
     ]
    }
   ],
   "source": [
    "b = input()\n",
    "a = int(float(b.replace(\",\",\".\")))\n",
    "if(a <= 0):\n",
    "    print(\"N'est pas un nombre positif\")\n",
    "else :\n",
    "    print(\"Les nombres sont :\")\n",
    "    for i in range(1,a+1):\n",
    "        print(i)"
   ]
  },
  {
   "cell_type": "markdown",
   "id": "3e0c3b19",
   "metadata": {},
   "source": [
    "### Exercice 2\n",
    "\n",
    "Écrivez une fonction qui prend une liste de nombres en entrée et renvoie une nouvelle liste contenant uniquement les nombres positifs."
   ]
  },
  {
   "cell_type": "code",
   "execution_count": 33,
   "id": "0a9acd77",
   "metadata": {},
   "outputs": [
    {
     "name": "stdout",
     "output_type": "stream",
     "text": [
      "5\n",
      "6\n",
      "7\n",
      "8\n",
      "9\n"
     ]
    }
   ],
   "source": [
    "def Positif(a):\n",
    "    for i in range(len(a)):\n",
    "        if (a[i] > 0):\n",
    "            print(a[i])\n",
    "Positif([-1,-2,-3,0,5,6,7,8,9])"
   ]
  },
  {
   "cell_type": "markdown",
   "id": "a0f441f9",
   "metadata": {},
   "source": [
    "### Exercice 3\n",
    "\n",
    "Écrivez une fonction qui prend une liste de mots en entrée et renvoie une nouvelle liste contenant les mots dont la première lettre est une voyelle (a, e, i, o, u)."
   ]
  },
  {
   "cell_type": "code",
   "execution_count": 65,
   "id": "39aa4019",
   "metadata": {},
   "outputs": [
    {
     "name": "stdout",
     "output_type": "stream",
     "text": [
      "Aligator\n",
      "e\n"
     ]
    }
   ],
   "source": [
    "def Voyelle_en_1er(a):\n",
    "    j = 0\n",
    "    voyelles = (\"a\",\"e\",\"i\",\"o\",\"u\",\"A\",\"E\",\"I\",\"O\",\"U\")\n",
    "    for i in range(len(a)):\n",
    "        if (a[i][0] in voyelles):\n",
    "            j += 1\n",
    "            print(a[i])\n",
    "    if j == 0 :\n",
    "        print(\"Aucun des mots proposés commencent par une voyelle\")\n",
    "        \n",
    "Voyelle_en_1er([\"Chevre\",\"Aligator\",\"Tortue\",\"e\"])"
   ]
  },
  {
   "cell_type": "markdown",
   "id": "a0f3924b",
   "metadata": {},
   "source": [
    "### Exercice 4\n",
    "\n",
    "Écrivez une fonction qui prend un nombre entier en entrée et affiche si ce nombre est positif, négatif ou nul."
   ]
  },
  {
   "cell_type": "code",
   "execution_count": 12,
   "id": "cae456d9",
   "metadata": {},
   "outputs": [
    {
     "name": "stdout",
     "output_type": "stream",
     "text": [
      "Negatif\n"
     ]
    }
   ],
   "source": [
    "def Positif_ou_negatif_ou_nul(a):\n",
    "    if(a > 0):\n",
    "        print(\"Positif\")\n",
    "    elif(a < 0):\n",
    "        print(\"Negatif\")\n",
    "    else:\n",
    "        print(\"Nul (bouh)\")\n",
    "Positif_ou_negatif_ou_nul(-1)"
   ]
  },
  {
   "cell_type": "markdown",
   "id": "7a060b13",
   "metadata": {},
   "source": [
    "### Exercice 5\n",
    "\n",
    "Écrivez un programme qui demande à l'utilisateur de saisir un mot et affiche si ce mot contient plus de 5 caractères."
   ]
  },
  {
   "cell_type": "code",
   "execution_count": 96,
   "id": "872445c0",
   "metadata": {
    "scrolled": true
   },
   "outputs": [
    {
     "name": "stdout",
     "output_type": "stream",
     "text": [
      "Entre un mot : Saucisse\n",
      "Il y a plus de 5 caractères\n"
     ]
    }
   ],
   "source": [
    "def Mot_de_plus_de_5_caractères(a):\n",
    "    if len(a) > 5:\n",
    "        print(\"Il y a plus de 5 caractères\")\n",
    "    else :\n",
    "        print(\"Il y a moins de 5 caractères\")\n",
    "Mot_de_plus_de_5_caractères(input(\"Entre un mot : \"))\n",
    "    "
   ]
  },
  {
   "cell_type": "markdown",
   "id": "d8ae8ebe",
   "metadata": {},
   "source": [
    "### Exercice 6\n",
    "\n",
    "Écrivez un programme qui demande à l'utilisateur de saisir 5 nombres entiers, acquisition clavier, les stocke dans une liste, puis affiche la liste."
   ]
  },
  {
   "cell_type": "code",
   "execution_count": 92,
   "id": "6c79b81a",
   "metadata": {},
   "outputs": [
    {
     "name": "stdout",
     "output_type": "stream",
     "text": [
      "Ajoute le nombre n°1 = 1\n",
      "Ajoute le nombre n°2 = 2\n",
      "Ajoute le nombre n°3 = 3\n",
      "Ajoute le nombre n°4 = 4\n",
      "Ajoute le nombre n°5 = 5\n",
      "['1', '2', '3', '4', '5']\n"
     ]
    }
   ],
   "source": [
    "liste_nombre = []\n",
    "for i in range(5):\n",
    "    liste_nombre.append(input(\"Ajoute le nombre n°\" + str(i+1) + \" = \"))\n",
    "    \n",
    "print(liste_nombre)"
   ]
  },
  {
   "cell_type": "code",
   "execution_count": 93,
   "id": "e475a727",
   "metadata": {},
   "outputs": [
    {
     "name": "stdout",
     "output_type": "stream",
     "text": [
      "Ajoute le nombre n°1 = 1\n",
      "Ajoute le nombre n°2 = 2\n",
      "Ajoute le nombre n°3 = 3\n",
      "Ajoute le nombre n°4 = 4\n",
      "Ajoute le nombre n°5 = 5\n",
      "['1', '2', '3', '4', '5']\n"
     ]
    }
   ],
   "source": [
    "liste_nombre = [input(\"Ajoute le nombre n°\" + str(i+1) + \" = \") for i in range(5)]\n",
    "\n",
    "print(liste_nombre)"
   ]
  },
  {
   "cell_type": "markdown",
   "id": "01cb3800",
   "metadata": {},
   "source": [
    "### Exercice 7\n",
    "\n",
    "Écrivez une fonction qui prend une liste de nombres en entrée et renvoie la somme de tous les éléments de la liste."
   ]
  },
  {
   "cell_type": "code",
   "execution_count": 97,
   "id": "a98723c3",
   "metadata": {},
   "outputs": [
    {
     "name": "stdout",
     "output_type": "stream",
     "text": [
      "La somme est de 132\n"
     ]
    }
   ],
   "source": [
    "def Somme(a):\n",
    "    b = 0\n",
    "    for i in range(len(a)):\n",
    "        b += int(a[i])\n",
    "    print(\"La somme est de \" + str(b))\n",
    "\n",
    "Somme([66,66])"
   ]
  },
  {
   "cell_type": "markdown",
   "id": "79818d52",
   "metadata": {},
   "source": [
    "### Exercice 8\n",
    "\n",
    "Écrivez une fonction qui prend une liste de mots en entrée et renvoie une nouvelle liste contenant la longueur de chaque mot."
   ]
  },
  {
   "cell_type": "code",
   "execution_count": 103,
   "id": "43df56b2",
   "metadata": {},
   "outputs": [
    {
     "name": "stdout",
     "output_type": "stream",
     "text": [
      "Voici les différents longueur de mots pour les differents mots proposés : [4, 5, 3, 2, 1]\n"
     ]
    }
   ],
   "source": [
    "def longueur_mot(a):\n",
    "    count_l = []\n",
    "    for i in range(len(a)):\n",
    "        count_l.append(len(a[i]))\n",
    "    print(\"Voici les différents longueur de mots pour les differents mots proposés : \" + str(count_l))\n",
    "    \n",
    "longueur_mot([\"AAAA\",\"BBBBB\",\"CCC\",\"DD\",\"E\"])"
   ]
  },
  {
   "cell_type": "markdown",
   "id": "b7b5bf5b",
   "metadata": {},
   "source": [
    "### Exercice 9\n",
    "\n",
    "Écrivez une fonction qui prend une liste de nombres en entrée et renvoie une nouvelle liste contenant uniquement les nombres pairs de la liste initiale."
   ]
  },
  {
   "cell_type": "code",
   "execution_count": 106,
   "id": "f520bec3",
   "metadata": {},
   "outputs": [
    {
     "name": "stdout",
     "output_type": "stream",
     "text": [
      "2\n",
      "4\n",
      "6\n",
      "8\n"
     ]
    }
   ],
   "source": [
    "def Paire(a):\n",
    "    j = 0\n",
    "    for i in range(len(a)):\n",
    "        if (a[i]%2 == 0):\n",
    "            j += 1 \n",
    "            print(a[i])\n",
    "    if j == 0:\n",
    "        print(\"Aucun nombre n'est paire\")\n",
    "    \n",
    "            \n",
    "Paire([1,2,3,4,5,6,7,8,9])"
   ]
  },
  {
   "cell_type": "markdown",
   "id": "2971491e",
   "metadata": {},
   "source": [
    "### Exercice 10\n",
    "\n",
    "Écrivez un programme qui prend une liste de mots en entrée, acquisition clavier, les trie par ordre alphabétique et affiche la liste triée."
   ]
  },
  {
   "cell_type": "code",
   "execution_count": 35,
   "id": "c4b4edb8",
   "metadata": {},
   "outputs": [
    {
     "name": "stdout",
     "output_type": "stream",
     "text": [
      "['AHAHAHA', 'HAHAHA']\n"
     ]
    }
   ],
   "source": [
    "def Tri(a):\n",
    "    a.sort()\n",
    "    print(a)\n",
    "    \n",
    "Tri([\"HAHAHA\",\"AHAHAHA\"])"
   ]
  },
  {
   "cell_type": "markdown",
   "id": "e826f295",
   "metadata": {},
   "source": [
    "### Exercice 11\n",
    "\n",
    "Écrivez un programme qui demande à l'utilisateur de saisir une phrase et affiche le nombre de caractères de cette phrase (en comptant les espaces)."
   ]
  },
  {
   "cell_type": "code",
   "execution_count": 108,
   "id": "679fda7c",
   "metadata": {},
   "outputs": [
    {
     "name": "stdout",
     "output_type": "stream",
     "text": [
      "Cette chaîne de caractères contient : 28 caractère(s)\n"
     ]
    }
   ],
   "source": [
    "def Count_caractère(a):\n",
    "    print(\"Cette chaîne de caractères contient : \" + str(len(a)) + \" caractère(s)\")\n",
    "\n",
    "Count_caractère(\"Je ne sais pas quoi écrire !\")"
   ]
  },
  {
   "cell_type": "markdown",
   "id": "3369acaf",
   "metadata": {},
   "source": [
    "### Exercice 12\n",
    "\n",
    "Écrivez une fonction qui prend une chaîne de caractères en entrée et renvoie cette chaîne inversée."
   ]
  },
  {
   "cell_type": "code",
   "execution_count": 110,
   "id": "bc9a4814",
   "metadata": {},
   "outputs": [
    {
     "name": "stdout",
     "output_type": "stream",
     "text": [
      "Le mot Salut donne à l'envers le mot : tulaS\n"
     ]
    }
   ],
   "source": [
    "def Inverse(a):\n",
    "    b = \"\"\n",
    "    for i in range(1, len(a)+1):\n",
    "        b += a[-i]\n",
    "    print(\"Le mot \" + str(a) + \" donne à l'envers le mot : \" + str(b))\n",
    "        \n",
    "Inverse(\"Salut\")"
   ]
  },
  {
   "cell_type": "markdown",
   "id": "6aa651a0",
   "metadata": {},
   "source": [
    "### Exercice 13\n",
    "\n",
    "Écrivez une fonction qui prend une chaîne de caractères en entrée et renvoie le nombre de mots dans cette chaîne (un mot est séparé par un espace)."
   ]
  },
  {
   "cell_type": "code",
   "execution_count": 111,
   "id": "22173223",
   "metadata": {},
   "outputs": [
    {
     "name": "stdout",
     "output_type": "stream",
     "text": [
      "La chaîne de caractère contient : 7 mot(s)\n"
     ]
    }
   ],
   "source": [
    "def Count_mot(a):\n",
    "    print(\"La chaîne de caractère contient : \" + str(a.count(\" \")+1) + \" mot(s)\")\n",
    "    \n",
    "Count_mot(\"Je ne sais pas quoi écrire !\")"
   ]
  },
  {
   "cell_type": "markdown",
   "id": "56e13677",
   "metadata": {},
   "source": [
    "### Exercice 14\n",
    "\n",
    "Écrivez une fonction qui prend une chaîne de caractères en entrée et renvoie une nouvelle chaîne où chaque mot est en majuscules."
   ]
  },
  {
   "cell_type": "code",
   "execution_count": 53,
   "id": "0b18a0d4",
   "metadata": {},
   "outputs": [
    {
     "name": "stdout",
     "output_type": "stream",
     "text": [
      "TOUT DOUCEMENT\n"
     ]
    }
   ],
   "source": [
    "def Majuscule(a):\n",
    "    print(a.upper())\n",
    "    \n",
    "Majuscule(\"tout doucement\")"
   ]
  },
  {
   "cell_type": "markdown",
   "id": "41fe4dd8",
   "metadata": {},
   "source": [
    "### Exercice 15\n",
    "\n",
    "Écrivez une fonction qui prend une chaîne de caractères en entrée et renvoie True si cette chaîne est un palindrome (c'est-à-dire qu'elle se lit de la même manière de gauche à droite et de droite à gauche), sinon renvoie False."
   ]
  },
  {
   "cell_type": "code",
   "execution_count": 115,
   "id": "56bf9751",
   "metadata": {},
   "outputs": [
    {
     "data": {
      "text/plain": [
       "True"
      ]
     },
     "execution_count": 115,
     "metadata": {},
     "output_type": "execute_result"
    }
   ],
   "source": [
    "def Palindrome(a):\n",
    "    b = \"\"\n",
    "    for i in range(1, len(a)+1):\n",
    "        b += a[-i]\n",
    "    if a == b:\n",
    "        return True\n",
    "    else:\n",
    "        return False\n",
    "Palindrome(\"kayak\")"
   ]
  },
  {
   "cell_type": "markdown",
   "id": "7501aaed",
   "metadata": {},
   "source": [
    "### Exercice 16\n",
    "\n",
    "Écrivez un programme qui demande à l'utilisateur de deviner un nombre secret (par exemple 42). Le programme indique à l'utilisateur si le nombre à deviner est plus grand ou plus petit que sa proposition et continue de demander un nombre tant que l'utilisateur ne trouve pas le nombre secret. Une fois que l'utilisateur trouve le nombre secret, affichez un message de félicitations."
   ]
  },
  {
   "cell_type": "code",
   "execution_count": 120,
   "id": "8019c108",
   "metadata": {},
   "outputs": [
    {
     "name": "stdout",
     "output_type": "stream",
     "text": [
      "Choisis un nombre : 50\n",
      "C'est plus\n",
      "Choisis un nombre : 75\n",
      "C'est plus\n",
      "Choisis un nombre : 88\n",
      "C'est moins\n",
      "Choisis un nombre : 80\n",
      "C'est plus\n",
      "Choisis un nombre : 84\n",
      "C'est plus\n",
      "Choisis un nombre : 86\n",
      "Felicitation !\n"
     ]
    }
   ],
   "source": [
    "import random\n",
    "\n",
    "def JustePrix():\n",
    "    num = random.randint(1, 100)\n",
    "    guess = 0\n",
    "    while guess != num:\n",
    "        guess = int(input(\"Choisis un nombre : \"))\n",
    "        if guess == num:\n",
    "            print(\"Felicitation !\")\n",
    "        elif guess > num:\n",
    "            print(\"C'est moins\")\n",
    "        else:\n",
    "            print(\"C'est plus\")\n",
    "\n",
    "JustePrix()"
   ]
  },
  {
   "cell_type": "markdown",
   "id": "33afacdc",
   "metadata": {},
   "source": [
    "### Exercice 17\n",
    "\n",
    "Écrivez une fonction qui prend un nombre entier en entrée et affiche tous les nombres de 1 jusqu'à ce nombre (inclut) en utilisant une boucle \"while\"."
   ]
  },
  {
   "cell_type": "code",
   "execution_count": 4,
   "id": "a0a08430",
   "metadata": {},
   "outputs": [
    {
     "name": "stdout",
     "output_type": "stream",
     "text": [
      "1\n",
      "2\n",
      "3\n",
      "4\n",
      "5\n",
      "6\n",
      "7\n",
      "8\n",
      "9\n",
      "10\n",
      "11\n",
      "12\n",
      "13\n",
      "14\n",
      "15\n"
     ]
    }
   ],
   "source": [
    "def Count_while(a):\n",
    "    i = 1\n",
    "    while i != a:\n",
    "        print(i)\n",
    "        i += 1\n",
    "    print(a)\n",
    "\n",
    "Count_while(15)"
   ]
  },
  {
   "cell_type": "markdown",
   "id": "0647d4e7",
   "metadata": {},
   "source": [
    "### Exercice 18\n",
    "\n",
    "Écrivez une fonction qui prend une liste de nombres en entrée et renvoie une nouvelle liste contenant uniquement les nombres positifs en utilisant une boucle \"while\"."
   ]
  },
  {
   "cell_type": "code",
   "execution_count": 128,
   "id": "ef0d8f26",
   "metadata": {},
   "outputs": [
    {
     "name": "stdout",
     "output_type": "stream",
     "text": [
      "2\n",
      "4\n",
      "6\n",
      "8\n"
     ]
    }
   ],
   "source": [
    "def paire_while(a):\n",
    "    i = 0\n",
    "    while i != len(a):\n",
    "        if a[i] % 2 == 0:\n",
    "            print(a[i])\n",
    "        i += 1\n",
    "\n",
    "paire_while([1,2,3,4,5,6,7,8,9])"
   ]
  },
  {
   "cell_type": "markdown",
   "id": "da2d00c8",
   "metadata": {},
   "source": [
    "### Exercice 19\n",
    "\n",
    "Écrivez une fonction qui prend une liste de mots en entrée et renvoie une nouvelle liste contenant les mots dont la première lettre est une voyelle (a, e, i, o, u) en utilisant une boucle \"while\"."
   ]
  },
  {
   "cell_type": "code",
   "execution_count": 130,
   "id": "3c9c92f0",
   "metadata": {},
   "outputs": [
    {
     "name": "stdout",
     "output_type": "stream",
     "text": [
      "Aligator\n",
      "e\n"
     ]
    }
   ],
   "source": [
    "def Voyelle_en_1er_while(a):\n",
    "    j = 0\n",
    "    voyelles = (\"a\",\"e\",\"i\",\"o\",\"u\",\"A\",\"E\",\"I\",\"O\",\"U\")\n",
    "    i = 0\n",
    "    while i != len(a):\n",
    "        if (a[i][0] in voyelles):\n",
    "            j += 1\n",
    "            print(a[i])\n",
    "        i += 1\n",
    "    if j == 0 :\n",
    "        print(\"Aucun des mots proposés commencent par une voyelle\")\n",
    "        \n",
    "Voyelle_en_1er_while([\"Chevre\",\"Aligator\",\"Tortue\",\"e\"])"
   ]
  },
  {
   "cell_type": "markdown",
   "id": "31ce709e",
   "metadata": {},
   "source": [
    "### Exercice 20\n",
    "\n",
    "Écrivez un programme qui demande à l'utilisateur de saisir un mot et affiche si ce mot contient plus de 5 caractères en utilisant une boucle \"while\". Bah pour faire quoi ?"
   ]
  },
  {
   "cell_type": "code",
   "execution_count": 131,
   "id": "f55edd91",
   "metadata": {},
   "outputs": [
    {
     "name": "stdout",
     "output_type": "stream",
     "text": [
      "Entre un mot : Saucisse\n",
      "Il y a plus de 5 caractères\n"
     ]
    }
   ],
   "source": [
    "def Mot_de_plus_de_5_caractères(a):\n",
    "    if len(a) > 5:\n",
    "        print(\"Il y a plus de 5 caractères\")\n",
    "    else :\n",
    "        print(\"Il y a moins de 5 caractères\")\n",
    "Mot_de_plus_de_5_caractères(input(\"Entre un mot : \"))"
   ]
  },
  {
   "cell_type": "markdown",
   "id": "ef135196",
   "metadata": {},
   "source": [
    "## BONUS"
   ]
  },
  {
   "cell_type": "markdown",
   "id": "ae112409",
   "metadata": {},
   "source": [
    "### Exercice 21\n",
    "\n",
    "Écrivez une fonction qui prend un nombre entier en entrée et affiche la suite de Fibonacci jusqu'à l'ordre de ce nombre. La suite de Fibonacci est une séquence d'entiers où chaque nombre est la somme des deux nombres précédents. La séquence commence généralement par 0 et 1."
   ]
  },
  {
   "cell_type": "code",
   "execution_count": 3,
   "id": "307f7737",
   "metadata": {},
   "outputs": [
    {
     "name": "stdout",
     "output_type": "stream",
     "text": [
      "[1, 1, 2, 3, 5, 8]\n"
     ]
    }
   ],
   "source": [
    "def Suite_Fibonnaci(a):\n",
    "    b = []\n",
    "    for i in range(0,a+1):\n",
    "        if i == 0 or i == 1:\n",
    "            b.append(1)\n",
    "        else:\n",
    "            c = b[i-2] + b[i-1]\n",
    "            b.append(c)\n",
    "    print(b)\n",
    "\n",
    "Suite_Fibonnaci(5)"
   ]
  },
  {
   "cell_type": "markdown",
   "id": "771749e7",
   "metadata": {},
   "source": [
    "### Exercice 22\n",
    "\n",
    "calculer 0.1+0.2 avec python expliquer le résultat. Comment obtenir le résultat souhaité dans ce cas ?"
   ]
  },
  {
   "cell_type": "code",
   "execution_count": 21,
   "id": "cf1f0d9a",
   "metadata": {},
   "outputs": [
    {
     "name": "stdout",
     "output_type": "stream",
     "text": [
      "0.30000000000000004\n",
      "0.3\n"
     ]
    }
   ],
   "source": [
    "print(0.1 + 0.2)\n",
    "\n",
    "print(round(0.1 + 0.2,2))"
   ]
  }
 ],
 "metadata": {
  "kernelspec": {
   "display_name": "Python 3 (ipykernel)",
   "language": "python",
   "name": "python3"
  },
  "language_info": {
   "codemirror_mode": {
    "name": "ipython",
    "version": 3
   },
   "file_extension": ".py",
   "mimetype": "text/x-python",
   "name": "python",
   "nbconvert_exporter": "python",
   "pygments_lexer": "ipython3",
   "version": "3.11.5"
  }
 },
 "nbformat": 4,
 "nbformat_minor": 5
}
